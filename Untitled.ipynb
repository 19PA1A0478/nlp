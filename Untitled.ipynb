{
  "nbformat": 4,
  "nbformat_minor": 0,
  "metadata": {
    "colab": {
      "name": "Untitled",
      "provenance": [],
      "collapsed_sections": [],
      "include_colab_link": true
    },
    "kernelspec": {
      "name": "python3",
      "display_name": "Python 3"
    }
  },
  "cells": [
    {
      "cell_type": "markdown",
      "metadata": {
        "id": "view-in-github",
        "colab_type": "text"
      },
      "source": [
        "<a href=\"https://colab.research.google.com/github/19PA1A0478/nlp/blob/master/Untitled.ipynb\" target=\"_parent\"><img src=\"https://colab.research.google.com/assets/colab-badge.svg\" alt=\"Open In Colab\"/></a>"
      ]
    },
    {
      "cell_type": "markdown",
      "metadata": {
        "id": "miV84e8Ds5IA",
        "colab_type": "text"
      },
      "source": [
        "NLP Assignment\n",
        "In this assignment you will learn to do some data cleaning, prepare your features and do some K Means clustering on the data.\n",
        "\n",
        "Download data from here\n",
        "\n",
        "Load it as a pandas dataframe"
      ]
    },
    {
      "cell_type": "code",
      "metadata": {
        "id": "7vCkhE6fushl",
        "colab_type": "code",
        "outputId": "99e1efe4-2039-4798-9474-4bfc70881629",
        "colab": {
          "base_uri": "https://localhost:8080/",
          "height": 51
        }
      },
      "source": [
        "import numpy as np\n",
        "import pandas as pd\n",
        "import nltk\n",
        "nltk.download('punkt')\n",
        "from nltk.tokenize import word_tokenize, sent_tokenize\n",
        "\n"
      ],
      "execution_count": 4,
      "outputs": [
        {
          "output_type": "stream",
          "text": [
            "[nltk_data] Downloading package punkt to /root/nltk_data...\n",
            "[nltk_data]   Package punkt is already up-to-date!\n"
          ],
          "name": "stdout"
        }
      ]
    },
    {
      "cell_type": "code",
      "metadata": {
        "id": "Hzb_SBGnu03o",
        "colab_type": "code",
        "outputId": "3f3d3b48-feef-4bfc-fe19-8c1101e7075f",
        "colab": {
          "base_uri": "https://localhost:8080/",
          "height": 34
        }
      },
      "source": [
        "data=pd.read_csv('https://query.data.world/s/kto4nj573ftyiwlcdmmud7bkqhpmgx')\n",
        "data.shape"
      ],
      "execution_count": 5,
      "outputs": [
        {
          "output_type": "execute_result",
          "data": {
            "text/plain": [
              "(10000, 17)"
            ]
          },
          "metadata": {
            "tags": []
          },
          "execution_count": 5
        }
      ]
    },
    {
      "cell_type": "code",
      "metadata": {
        "id": "PU5GzcCk1t5Q",
        "colab_type": "code",
        "colab": {
          "base_uri": "https://localhost:8080/",
          "height": 598
        },
        "outputId": "acb627e0-b28d-4a92-9229-887f85c43ba8"
      },
      "source": [
        "data.head()"
      ],
      "execution_count": 6,
      "outputs": [
        {
          "output_type": "execute_result",
          "data": {
            "text/html": [
              "<div>\n",
              "<style scoped>\n",
              "    .dataframe tbody tr th:only-of-type {\n",
              "        vertical-align: middle;\n",
              "    }\n",
              "\n",
              "    .dataframe tbody tr th {\n",
              "        vertical-align: top;\n",
              "    }\n",
              "\n",
              "    .dataframe thead th {\n",
              "        text-align: right;\n",
              "    }\n",
              "</style>\n",
              "<table border=\"1\" class=\"dataframe\">\n",
              "  <thead>\n",
              "    <tr style=\"text-align: right;\">\n",
              "      <th></th>\n",
              "      <th>uniq_id</th>\n",
              "      <th>product_name</th>\n",
              "      <th>manufacturer</th>\n",
              "      <th>price</th>\n",
              "      <th>number_available_in_stock</th>\n",
              "      <th>number_of_reviews</th>\n",
              "      <th>number_of_answered_questions</th>\n",
              "      <th>average_review_rating</th>\n",
              "      <th>amazon_category_and_sub_category</th>\n",
              "      <th>customers_who_bought_this_item_also_bought</th>\n",
              "      <th>description</th>\n",
              "      <th>product_information</th>\n",
              "      <th>product_description</th>\n",
              "      <th>items_customers_buy_after_viewing_this_item</th>\n",
              "      <th>customer_questions_and_answers</th>\n",
              "      <th>customer_reviews</th>\n",
              "      <th>sellers</th>\n",
              "    </tr>\n",
              "  </thead>\n",
              "  <tbody>\n",
              "    <tr>\n",
              "      <th>0</th>\n",
              "      <td>eac7efa5dbd3d667f26eb3d3ab504464</td>\n",
              "      <td>Hornby 2014 Catalogue</td>\n",
              "      <td>Hornby</td>\n",
              "      <td>£3.42</td>\n",
              "      <td>5 new</td>\n",
              "      <td>15</td>\n",
              "      <td>1.0</td>\n",
              "      <td>4.9 out of 5 stars</td>\n",
              "      <td>Hobbies &gt; Model Trains &amp; Railway Sets &gt; Rail V...</td>\n",
              "      <td>http://www.amazon.co.uk/Hornby-R8150-Catalogue...</td>\n",
              "      <td>Product Description Hornby 2014 Catalogue Box ...</td>\n",
              "      <td>Technical Details Item Weight640 g Product Dim...</td>\n",
              "      <td>Product Description Hornby 2014 Catalogue Box ...</td>\n",
              "      <td>http://www.amazon.co.uk/Hornby-R8150-Catalogue...</td>\n",
              "      <td>Does this catalogue detail all the previous Ho...</td>\n",
              "      <td>Worth Buying For The Pictures Alone (As Ever) ...</td>\n",
              "      <td>{\"seller\"=&gt;[{\"Seller_name_1\"=&gt;\"Amazon.co.uk\", ...</td>\n",
              "    </tr>\n",
              "    <tr>\n",
              "      <th>1</th>\n",
              "      <td>b17540ef7e86e461d37f3ae58b7b72ac</td>\n",
              "      <td>FunkyBuys® Large Christmas Holiday Express Fes...</td>\n",
              "      <td>FunkyBuys</td>\n",
              "      <td>£16.99</td>\n",
              "      <td>NaN</td>\n",
              "      <td>2</td>\n",
              "      <td>1.0</td>\n",
              "      <td>4.5 out of 5 stars</td>\n",
              "      <td>Hobbies &gt; Model Trains &amp; Railway Sets &gt; Rail V...</td>\n",
              "      <td>http://www.amazon.co.uk/Christmas-Holiday-Expr...</td>\n",
              "      <td>Size Name:Large FunkyBuys® Large Christmas Hol...</td>\n",
              "      <td>Technical Details Manufacturer recommended age...</td>\n",
              "      <td>Size Name:Large FunkyBuys® Large Christmas Hol...</td>\n",
              "      <td>http://www.amazon.co.uk/Christmas-Holiday-Expr...</td>\n",
              "      <td>can you turn off sounds // hi no you cant turn...</td>\n",
              "      <td>Four Stars // 4.0 // 18 Dec. 2015 // By\\n    \\...</td>\n",
              "      <td>{\"seller\"=&gt;{\"Seller_name_1\"=&gt;\"UHD WHOLESALE\", ...</td>\n",
              "    </tr>\n",
              "    <tr>\n",
              "      <th>2</th>\n",
              "      <td>348f344247b0c1a935b1223072ef9d8a</td>\n",
              "      <td>CLASSIC TOY TRAIN SET TRACK CARRIAGES LIGHT EN...</td>\n",
              "      <td>ccf</td>\n",
              "      <td>£9.99</td>\n",
              "      <td>2 new</td>\n",
              "      <td>17</td>\n",
              "      <td>2.0</td>\n",
              "      <td>3.9 out of 5 stars</td>\n",
              "      <td>Hobbies &gt; Model Trains &amp; Railway Sets &gt; Rail V...</td>\n",
              "      <td>http://www.amazon.co.uk/Classic-Train-Lights-B...</td>\n",
              "      <td>BIG CLASSIC TOY TRAIN SET TRACK CARRIAGE LIGHT...</td>\n",
              "      <td>Technical Details Manufacturer recommended age...</td>\n",
              "      <td>BIG CLASSIC TOY TRAIN SET TRACK CARRIAGE LIGHT...</td>\n",
              "      <td>http://www.amazon.co.uk/Train-With-Tracks-Batt...</td>\n",
              "      <td>What is the gauge of the track // Hi Paul.Trut...</td>\n",
              "      <td>**Highly Recommended!** // 5.0 // 26 May 2015 ...</td>\n",
              "      <td>{\"seller\"=&gt;[{\"Seller_name_1\"=&gt;\"DEAL-BOX\", \"Sel...</td>\n",
              "    </tr>\n",
              "    <tr>\n",
              "      <th>3</th>\n",
              "      <td>e12b92dbb8eaee78b22965d2a9bbbd9f</td>\n",
              "      <td>HORNBY Coach R4410A BR Hawksworth Corridor 3rd</td>\n",
              "      <td>Hornby</td>\n",
              "      <td>£39.99</td>\n",
              "      <td>NaN</td>\n",
              "      <td>1</td>\n",
              "      <td>2.0</td>\n",
              "      <td>5.0 out of 5 stars</td>\n",
              "      <td>Hobbies &gt; Model Trains &amp; Railway Sets &gt; Rail V...</td>\n",
              "      <td>NaN</td>\n",
              "      <td>Hornby 00 Gauge BR Hawksworth 3rd Class W 2107...</td>\n",
              "      <td>Technical Details Item Weight259 g Product Dim...</td>\n",
              "      <td>Hornby 00 Gauge BR Hawksworth 3rd Class W 2107...</td>\n",
              "      <td>NaN</td>\n",
              "      <td>NaN</td>\n",
              "      <td>I love it // 5.0 // 22 July 2013 // By\\n    \\n...</td>\n",
              "      <td>NaN</td>\n",
              "    </tr>\n",
              "    <tr>\n",
              "      <th>4</th>\n",
              "      <td>e33a9adeed5f36840ccc227db4682a36</td>\n",
              "      <td>Hornby 00 Gauge 0-4-0 Gildenlow Salt Co. Steam...</td>\n",
              "      <td>Hornby</td>\n",
              "      <td>£32.19</td>\n",
              "      <td>NaN</td>\n",
              "      <td>3</td>\n",
              "      <td>2.0</td>\n",
              "      <td>4.7 out of 5 stars</td>\n",
              "      <td>Hobbies &gt; Model Trains &amp; Railway Sets &gt; Rail V...</td>\n",
              "      <td>http://www.amazon.co.uk/Hornby-R6367-RailRoad-...</td>\n",
              "      <td>Product Description Hornby RailRoad 0-4-0 Gild...</td>\n",
              "      <td>Technical Details Item Weight159 g Product Dim...</td>\n",
              "      <td>Product Description Hornby RailRoad 0-4-0 Gild...</td>\n",
              "      <td>http://www.amazon.co.uk/Hornby-R2672-RailRoad-...</td>\n",
              "      <td>NaN</td>\n",
              "      <td>Birthday present // 5.0 // 14 April 2014 // By...</td>\n",
              "      <td>NaN</td>\n",
              "    </tr>\n",
              "  </tbody>\n",
              "</table>\n",
              "</div>"
            ],
            "text/plain": [
              "                            uniq_id  ...                                            sellers\n",
              "0  eac7efa5dbd3d667f26eb3d3ab504464  ...  {\"seller\"=>[{\"Seller_name_1\"=>\"Amazon.co.uk\", ...\n",
              "1  b17540ef7e86e461d37f3ae58b7b72ac  ...  {\"seller\"=>{\"Seller_name_1\"=>\"UHD WHOLESALE\", ...\n",
              "2  348f344247b0c1a935b1223072ef9d8a  ...  {\"seller\"=>[{\"Seller_name_1\"=>\"DEAL-BOX\", \"Sel...\n",
              "3  e12b92dbb8eaee78b22965d2a9bbbd9f  ...                                                NaN\n",
              "4  e33a9adeed5f36840ccc227db4682a36  ...                                                NaN\n",
              "\n",
              "[5 rows x 17 columns]"
            ]
          },
          "metadata": {
            "tags": []
          },
          "execution_count": 6
        }
      ]
    },
    {
      "cell_type": "code",
      "metadata": {
        "id": "pU2OxOcz12Oc",
        "colab_type": "code",
        "colab": {
          "base_uri": "https://localhost:8080/",
          "height": 1000
        },
        "outputId": "667bfd36-3346-4607-a2c4-fd0c2de6a609"
      },
      "source": [
        "# dropping null value columns to avoid errors \n",
        "data.dropna(inplace = True) \n",
        "  \n",
        "# new data frame with split value columns \n",
        "new = data[\"customer_reviews\"].str.split(\"//\", n = 1, expand = True) \n",
        "  \n",
        "# making separate first name column from new data frame \n",
        "data[\"First Name\"]= new[0] \n",
        "  \n",
        "# making separate last name column from new data frame \n",
        "data[\"Last Name\"]= new[1] \n",
        "  \n",
        "# Dropping old Name columns \n",
        "data.drop(columns =[\"customer_reviews\"], inplace = True) \n",
        "  \n",
        "# df display \n",
        "data "
      ],
      "execution_count": 7,
      "outputs": [
        {
          "output_type": "execute_result",
          "data": {
            "text/html": [
              "<div>\n",
              "<style scoped>\n",
              "    .dataframe tbody tr th:only-of-type {\n",
              "        vertical-align: middle;\n",
              "    }\n",
              "\n",
              "    .dataframe tbody tr th {\n",
              "        vertical-align: top;\n",
              "    }\n",
              "\n",
              "    .dataframe thead th {\n",
              "        text-align: right;\n",
              "    }\n",
              "</style>\n",
              "<table border=\"1\" class=\"dataframe\">\n",
              "  <thead>\n",
              "    <tr style=\"text-align: right;\">\n",
              "      <th></th>\n",
              "      <th>uniq_id</th>\n",
              "      <th>product_name</th>\n",
              "      <th>manufacturer</th>\n",
              "      <th>price</th>\n",
              "      <th>number_available_in_stock</th>\n",
              "      <th>number_of_reviews</th>\n",
              "      <th>number_of_answered_questions</th>\n",
              "      <th>average_review_rating</th>\n",
              "      <th>amazon_category_and_sub_category</th>\n",
              "      <th>customers_who_bought_this_item_also_bought</th>\n",
              "      <th>description</th>\n",
              "      <th>product_information</th>\n",
              "      <th>product_description</th>\n",
              "      <th>items_customers_buy_after_viewing_this_item</th>\n",
              "      <th>customer_questions_and_answers</th>\n",
              "      <th>sellers</th>\n",
              "      <th>First Name</th>\n",
              "      <th>Last Name</th>\n",
              "    </tr>\n",
              "  </thead>\n",
              "  <tbody>\n",
              "    <tr>\n",
              "      <th>0</th>\n",
              "      <td>eac7efa5dbd3d667f26eb3d3ab504464</td>\n",
              "      <td>Hornby 2014 Catalogue</td>\n",
              "      <td>Hornby</td>\n",
              "      <td>£3.42</td>\n",
              "      <td>5 new</td>\n",
              "      <td>15</td>\n",
              "      <td>1.0</td>\n",
              "      <td>4.9 out of 5 stars</td>\n",
              "      <td>Hobbies &gt; Model Trains &amp; Railway Sets &gt; Rail V...</td>\n",
              "      <td>http://www.amazon.co.uk/Hornby-R8150-Catalogue...</td>\n",
              "      <td>Product Description Hornby 2014 Catalogue Box ...</td>\n",
              "      <td>Technical Details Item Weight640 g Product Dim...</td>\n",
              "      <td>Product Description Hornby 2014 Catalogue Box ...</td>\n",
              "      <td>http://www.amazon.co.uk/Hornby-R8150-Catalogue...</td>\n",
              "      <td>Does this catalogue detail all the previous Ho...</td>\n",
              "      <td>{\"seller\"=&gt;[{\"Seller_name_1\"=&gt;\"Amazon.co.uk\", ...</td>\n",
              "      <td>Worth Buying For The Pictures Alone (As Ever)</td>\n",
              "      <td>4.0 // 6 April 2014 // By\\n    \\n    Copnovel...</td>\n",
              "    </tr>\n",
              "    <tr>\n",
              "      <th>2</th>\n",
              "      <td>348f344247b0c1a935b1223072ef9d8a</td>\n",
              "      <td>CLASSIC TOY TRAIN SET TRACK CARRIAGES LIGHT EN...</td>\n",
              "      <td>ccf</td>\n",
              "      <td>£9.99</td>\n",
              "      <td>2 new</td>\n",
              "      <td>17</td>\n",
              "      <td>2.0</td>\n",
              "      <td>3.9 out of 5 stars</td>\n",
              "      <td>Hobbies &gt; Model Trains &amp; Railway Sets &gt; Rail V...</td>\n",
              "      <td>http://www.amazon.co.uk/Classic-Train-Lights-B...</td>\n",
              "      <td>BIG CLASSIC TOY TRAIN SET TRACK CARRIAGE LIGHT...</td>\n",
              "      <td>Technical Details Manufacturer recommended age...</td>\n",
              "      <td>BIG CLASSIC TOY TRAIN SET TRACK CARRIAGE LIGHT...</td>\n",
              "      <td>http://www.amazon.co.uk/Train-With-Tracks-Batt...</td>\n",
              "      <td>What is the gauge of the track // Hi Paul.Trut...</td>\n",
              "      <td>{\"seller\"=&gt;[{\"Seller_name_1\"=&gt;\"DEAL-BOX\", \"Sel...</td>\n",
              "      <td>**Highly Recommended!**</td>\n",
              "      <td>5.0 // 26 May 2015 // By\\n    \\n    Simon.B :...</td>\n",
              "    </tr>\n",
              "    <tr>\n",
              "      <th>7</th>\n",
              "      <td>87bbb472ef9d90dcef140a551665c929</td>\n",
              "      <td>Hornby Santa's Express Train Set</td>\n",
              "      <td>Hornby</td>\n",
              "      <td>£69.93</td>\n",
              "      <td>3 new</td>\n",
              "      <td>36</td>\n",
              "      <td>7.0</td>\n",
              "      <td>4.3 out of 5 stars</td>\n",
              "      <td>Hobbies &gt; Model Trains &amp; Railway Sets &gt; Rail V...</td>\n",
              "      <td>http://www.amazon.co.uk/Hornby-R8221-Gauge-Tra...</td>\n",
              "      <td>Product Description Inject a bit of Hornby mag...</td>\n",
              "      <td>Technical Details Item Weight1.2 Kg Product Di...</td>\n",
              "      <td>Product Description Inject a bit of Hornby mag...</td>\n",
              "      <td>http://www.amazon.co.uk/Hornby-R1151-Caledonia...</td>\n",
              "      <td>Can this train go backwards as well as forward...</td>\n",
              "      <td>{\"seller\"=&gt;[{\"Seller_name_1\"=&gt;\"Toy Arena\", \"Se...</td>\n",
              "      <td>Beautiful set</td>\n",
              "      <td>5.0 // 3 Dec. 2015 // By\\n    \\n    Adam Irwi...</td>\n",
              "    </tr>\n",
              "    <tr>\n",
              "      <th>8</th>\n",
              "      <td>7e2aa2b4596a39ba852449718413d7cc</td>\n",
              "      <td>Hornby Gauge Western Express Digital Train Set...</td>\n",
              "      <td>Hornby</td>\n",
              "      <td>£235.58</td>\n",
              "      <td>4 new</td>\n",
              "      <td>1</td>\n",
              "      <td>1.0</td>\n",
              "      <td>5.0 out of 5 stars</td>\n",
              "      <td>Hobbies &gt; Model Trains &amp; Railway Sets &gt; Rail V...</td>\n",
              "      <td>http://www.amazon.co.uk/Hornby-Western-Master-...</td>\n",
              "      <td>Western Express Digital Train Set with eLink a...</td>\n",
              "      <td>Technical Details Item Weight2.3 Kg Product Di...</td>\n",
              "      <td>Western Express Digital Train Set with eLink a...</td>\n",
              "      <td>http://www.amazon.co.uk/Hornby-Western-Master-...</td>\n",
              "      <td>The description is incorrect.  the hornby site...</td>\n",
              "      <td>{\"seller\"=&gt;[{\"Seller_name_1\"=&gt;\"Amazon.co.uk\", ...</td>\n",
              "      <td>Five Stars</td>\n",
              "      <td>5.0 // 23 Dec. 2015 // By\\n    \\n    Mr. K. W...</td>\n",
              "    </tr>\n",
              "    <tr>\n",
              "      <th>30</th>\n",
              "      <td>93a2c5173f17b896dc614ffbac0c2f2c</td>\n",
              "      <td>Hornby R3246TTS LNER 2-8-2 'Cock O' The North'...</td>\n",
              "      <td>Hornby</td>\n",
              "      <td>£139.95</td>\n",
              "      <td>3 new</td>\n",
              "      <td>1</td>\n",
              "      <td>1.0</td>\n",
              "      <td>5.0 out of 5 stars</td>\n",
              "      <td>Hobbies &gt; Model Trains &amp; Railway Sets &gt; Rail V...</td>\n",
              "      <td>http://www.amazon.co.uk/Hornby-Gauge-Master-Gl...</td>\n",
              "      <td>Suitable for the following scale(s): OO Scale</td>\n",
              "      <td>Technical Details Manufacturer recommended age...</td>\n",
              "      <td>Suitable for the following scale(s): OO Scale</td>\n",
              "      <td>http://www.amazon.co.uk/Hornby-Gauge-Master-Gl...</td>\n",
              "      <td>I'm guessing this is the railroad version, as ...</td>\n",
              "      <td>{\"seller\"=&gt;[{\"Seller_name_1\"=&gt;\"Gaugemaster\", \"...</td>\n",
              "      <td>Five Stars</td>\n",
              "      <td>5.0 // 26 Nov. 2014 // By\\n    \\n    MKWolf\\n...</td>\n",
              "    </tr>\n",
              "    <tr>\n",
              "      <th>...</th>\n",
              "      <td>...</td>\n",
              "      <td>...</td>\n",
              "      <td>...</td>\n",
              "      <td>...</td>\n",
              "      <td>...</td>\n",
              "      <td>...</td>\n",
              "      <td>...</td>\n",
              "      <td>...</td>\n",
              "      <td>...</td>\n",
              "      <td>...</td>\n",
              "      <td>...</td>\n",
              "      <td>...</td>\n",
              "      <td>...</td>\n",
              "      <td>...</td>\n",
              "      <td>...</td>\n",
              "      <td>...</td>\n",
              "      <td>...</td>\n",
              "      <td>...</td>\n",
              "    </tr>\n",
              "    <tr>\n",
              "      <th>9915</th>\n",
              "      <td>4f955d75276bc16b1ff27dd88c7dc686</td>\n",
              "      <td>FIFA Scene It? DVD Game</td>\n",
              "      <td>Mattel</td>\n",
              "      <td>£1.59</td>\n",
              "      <td>19 new</td>\n",
              "      <td>5</td>\n",
              "      <td>1.0</td>\n",
              "      <td>4.4 out of 5 stars</td>\n",
              "      <td>Games &gt; DVD Games</td>\n",
              "      <td>http://www.amazon.co.uk/Toys-UEFA-Champions-Le...</td>\n",
              "      <td>Product Description Major new license game for...</td>\n",
              "      <td>Technical Details Item Weight1.1 Kg Product Di...</td>\n",
              "      <td>Product Description Major new license game for...</td>\n",
              "      <td>http://www.amazon.co.uk/The-Green-Board-Game-C...</td>\n",
              "      <td>Can I buy an up to date set of cards and DVD f...</td>\n",
              "      <td>{\"seller\"=&gt;[{\"Seller_name_1\"=&gt;\"Angela's Books\"...</td>\n",
              "      <td>Great game</td>\n",
              "      <td>5.0 // 29 Jun. 2013 // By\\n    \\n    emma oca...</td>\n",
              "    </tr>\n",
              "    <tr>\n",
              "      <th>9916</th>\n",
              "      <td>a1024a94e32b1be4ff83489152f9528d</td>\n",
              "      <td>DOMINO TILES RACKS. WOODEN. SET OF FOUR.</td>\n",
              "      <td>Elysium Enterprises</td>\n",
              "      <td>£13.99</td>\n",
              "      <td>2 new</td>\n",
              "      <td>7</td>\n",
              "      <td>1.0</td>\n",
              "      <td>4.4 out of 5 stars</td>\n",
              "      <td>Games &gt; Dominoes &amp; Tile Games</td>\n",
              "      <td>http://www.amazon.co.uk/Double-Colour-Dominoes...</td>\n",
              "      <td>Handy accessory for use with Tile Games.</td>\n",
              "      <td>Technical Details Manufacturer recommended age...</td>\n",
              "      <td>Handy accessory for use with Tile Games.</td>\n",
              "      <td>http://www.amazon.co.uk/Mah-Jongg-Scrabble-Woo...</td>\n",
              "      <td>Are the rows cut at an angle,so that the tiles...</td>\n",
              "      <td>{\"seller\"=&gt;[{\"Seller_name_1\"=&gt;\"Brimtoy T/a Jes...</td>\n",
              "      <td>Tile/Domino Racks</td>\n",
              "      <td>5.0 // 19 Jan. 2015 // By\\n    \\n    Julie A....</td>\n",
              "    </tr>\n",
              "    <tr>\n",
              "      <th>9941</th>\n",
              "      <td>daea7a80ff206b03b32cedb026cdee63</td>\n",
              "      <td>John Adams New Rummikub Junior Craft Kit</td>\n",
              "      <td>Rummikub</td>\n",
              "      <td>£9.99</td>\n",
              "      <td>16 new</td>\n",
              "      <td>1</td>\n",
              "      <td>1.0</td>\n",
              "      <td>4.0 out of 5 stars</td>\n",
              "      <td>Games &gt; Dominoes &amp; Tile Games</td>\n",
              "      <td>http://www.amazon.co.uk/Pressman-Toys-0400-06D...</td>\n",
              "      <td>Product Description The object of the game is ...</td>\n",
              "      <td>Technical Details Item Weight640 g Product Dim...</td>\n",
              "      <td>Product Description The object of the game is ...</td>\n",
              "      <td>http://www.amazon.co.uk/Pressman-Toys-0400-06D...</td>\n",
              "      <td>Is this a word or a number game?  The picture ...</td>\n",
              "      <td>{\"seller\"=&gt;[{\"Seller_name_1\"=&gt;\"Fun Collectable...</td>\n",
              "      <td>Four Stars</td>\n",
              "      <td>4.0 // 8 Feb. 2016 // By\\n    \\n    MR H BUSW...</td>\n",
              "    </tr>\n",
              "    <tr>\n",
              "      <th>9948</th>\n",
              "      <td>39a1c10da42db0ae04a0af42b53d3048</td>\n",
              "      <td>Tobar 00435 Wooden Domino Race</td>\n",
              "      <td>Tobar</td>\n",
              "      <td>£15.99</td>\n",
              "      <td>25 new</td>\n",
              "      <td>44</td>\n",
              "      <td>1.0</td>\n",
              "      <td>4.1 out of 5 stars</td>\n",
              "      <td>Games &gt; Dominoes &amp; Tile Games</td>\n",
              "      <td>http://www.amazon.co.uk/Green-Board-Games-4800...</td>\n",
              "      <td>Product Description Old fashioned version with...</td>\n",
              "      <td>Technical Details Item Weight1.6 Kg Product Di...</td>\n",
              "      <td>Product Description Old fashioned version with...</td>\n",
              "      <td>http://www.amazon.co.uk/Toys-Pure-Wooden-Domin...</td>\n",
              "      <td>what size are the dominoes? // The dominos are...</td>\n",
              "      <td>{\"seller\"=&gt;[{\"Seller_name_1\"=&gt;\"Amazon.co.uk\", ...</td>\n",
              "      <td>Hours of Fun!</td>\n",
              "      <td>4.0 // 30 Dec. 2009 // By\\n    \\n    Miss Y. ...</td>\n",
              "    </tr>\n",
              "    <tr>\n",
              "      <th>9949</th>\n",
              "      <td>4ad0fbbcc5a6e94b298c58f16c589e6a</td>\n",
              "      <td>Dominoes- double six, plastic,black spots,spin...</td>\n",
              "      <td>A Kent &amp; Cleal game</td>\n",
              "      <td>£6.57</td>\n",
              "      <td>2 new</td>\n",
              "      <td>123</td>\n",
              "      <td>1.0</td>\n",
              "      <td>4.7 out of 5 stars</td>\n",
              "      <td>Games &gt; Dominoes &amp; Tile Games</td>\n",
              "      <td>http://www.amazon.co.uk/Cribbage-board-folding...</td>\n",
              "      <td>This is a good size set of solid, chunky doubl...</td>\n",
              "      <td>Technical Details Manufacturer recommended age...</td>\n",
              "      <td>This is a good size set of solid, chunky doubl...</td>\n",
              "      <td>http://www.amazon.co.uk/Waddingtons | http://w...</td>\n",
              "      <td>How many dominoes are in the box? // Sorry gav...</td>\n",
              "      <td>{\"seller\"=&gt;[{\"Seller_name_1\"=&gt;\"CHABRIAS LTD\", ...</td>\n",
              "      <td>Simply the best</td>\n",
              "      <td>5.0 // 14 Aug. 2011 // By\\n    \\n    David Bl...</td>\n",
              "    </tr>\n",
              "  </tbody>\n",
              "</table>\n",
              "<p>511 rows × 18 columns</p>\n",
              "</div>"
            ],
            "text/plain": [
              "                               uniq_id  ...                                          Last Name\n",
              "0     eac7efa5dbd3d667f26eb3d3ab504464  ...   4.0 // 6 April 2014 // By\\n    \\n    Copnovel...\n",
              "2     348f344247b0c1a935b1223072ef9d8a  ...   5.0 // 26 May 2015 // By\\n    \\n    Simon.B :...\n",
              "7     87bbb472ef9d90dcef140a551665c929  ...   5.0 // 3 Dec. 2015 // By\\n    \\n    Adam Irwi...\n",
              "8     7e2aa2b4596a39ba852449718413d7cc  ...   5.0 // 23 Dec. 2015 // By\\n    \\n    Mr. K. W...\n",
              "30    93a2c5173f17b896dc614ffbac0c2f2c  ...   5.0 // 26 Nov. 2014 // By\\n    \\n    MKWolf\\n...\n",
              "...                                ...  ...                                                ...\n",
              "9915  4f955d75276bc16b1ff27dd88c7dc686  ...   5.0 // 29 Jun. 2013 // By\\n    \\n    emma oca...\n",
              "9916  a1024a94e32b1be4ff83489152f9528d  ...   5.0 // 19 Jan. 2015 // By\\n    \\n    Julie A....\n",
              "9941  daea7a80ff206b03b32cedb026cdee63  ...   4.0 // 8 Feb. 2016 // By\\n    \\n    MR H BUSW...\n",
              "9948  39a1c10da42db0ae04a0af42b53d3048  ...   4.0 // 30 Dec. 2009 // By\\n    \\n    Miss Y. ...\n",
              "9949  4ad0fbbcc5a6e94b298c58f16c589e6a  ...   5.0 // 14 Aug. 2011 // By\\n    \\n    David Bl...\n",
              "\n",
              "[511 rows x 18 columns]"
            ]
          },
          "metadata": {
            "tags": []
          },
          "execution_count": 7
        }
      ]
    },
    {
      "cell_type": "code",
      "metadata": {
        "id": "RGtepc3v5Ht4",
        "colab_type": "code",
        "colab": {}
      },
      "source": [
        "text=data['First Name']"
      ],
      "execution_count": 0,
      "outputs": []
    },
    {
      "cell_type": "code",
      "metadata": {
        "id": "_1_MYm2l3WFJ",
        "colab_type": "code",
        "colab": {
          "base_uri": "https://localhost:8080/",
          "height": 54
        },
        "outputId": "fbb4ad1f-231a-471f-e30c-65fce64ebe5c"
      },
      "source": [
        "nlpreview=str(text)\n",
        "print (nlpreview.splitlines(  )) \n",
        "\n"
      ],
      "execution_count": 9,
      "outputs": [
        {
          "output_type": "stream",
          "text": [
            "['0       Worth Buying For The Pictures Alone (As Ever) ', '2                             **Highly Recommended!** ', '7                                       Beautiful set ', '8                                          Five Stars ', '30                                         Five Stars ', '                             ...                      ', '9915                                       Great game ', '9916                                Tile/Domino Racks ', '9941                                       Four Stars ', '9948                                    Hours of Fun! ', '9949                                  Simply the best ', 'Name: First Name, Length: 511, dtype: object']\n"
          ],
          "name": "stdout"
        }
      ]
    },
    {
      "cell_type": "code",
      "metadata": {
        "id": "0OCJu6mHMqDx",
        "colab_type": "code",
        "colab": {
          "base_uri": "https://localhost:8080/",
          "height": 54
        },
        "outputId": "6257f562-96c5-4b23-f564-9fd1ed653ef5"
      },
      "source": [
        "word_tokenize(nlpreview)\n",
        "tokenizer = nltk.RegexpTokenizer(r\"\\w+\")\n",
        "new_words = tokenizer.tokenize(nlpreview)\n",
        "\n",
        "print(new_words)"
      ],
      "execution_count": 10,
      "outputs": [
        {
          "output_type": "stream",
          "text": [
            "['0', 'Worth', 'Buying', 'For', 'The', 'Pictures', 'Alone', 'As', 'Ever', '2', 'Highly', 'Recommended', '7', 'Beautiful', 'set', '8', 'Five', 'Stars', '30', 'Five', 'Stars', '9915', 'Great', 'game', '9916', 'Tile', 'Domino', 'Racks', '9941', 'Four', 'Stars', '9948', 'Hours', 'of', 'Fun', '9949', 'Simply', 'the', 'best', 'Name', 'First', 'Name', 'Length', '511', 'dtype', 'object']\n"
          ],
          "name": "stdout"
        }
      ]
    },
    {
      "cell_type": "code",
      "metadata": {
        "id": "Lk1HQwbmKt4q",
        "colab_type": "code",
        "colab": {
          "base_uri": "https://localhost:8080/",
          "height": 51
        },
        "outputId": "5f25227a-8d6a-4c1f-aaa4-164c7e4c09c9"
      },
      "source": [
        "from nltk.corpus import stopwords \n",
        "nltk.download('stopwords')\n",
        "from string import punctuation\n",
        "customStopWords=set(stopwords.words('english')+list(punctuation))"
      ],
      "execution_count": 11,
      "outputs": [
        {
          "output_type": "stream",
          "text": [
            "[nltk_data] Downloading package stopwords to /root/nltk_data...\n",
            "[nltk_data]   Unzipping corpora/stopwords.zip.\n"
          ],
          "name": "stdout"
        }
      ]
    },
    {
      "cell_type": "code",
      "metadata": {
        "id": "rBlNOik7K43n",
        "colab_type": "code",
        "colab": {
          "base_uri": "https://localhost:8080/",
          "height": 54
        },
        "outputId": "90ba2b15-110e-458c-9d91-13698c03f74b"
      },
      "source": [
        "wordsWOStopwords=[word for word in word_tokenize(nlpreview) if word not in customStopWords]\n",
        "print(wordsWOStopwords)"
      ],
      "execution_count": 12,
      "outputs": [
        {
          "output_type": "stream",
          "text": [
            "['0', 'Worth', 'Buying', 'For', 'The', 'Pictures', 'Alone', 'As', 'Ever', '2', '**Highly', 'Recommended', '**', '7', 'Beautiful', 'set', '8', 'Five', 'Stars', '30', 'Five', 'Stars', '...', '9915', 'Great', 'game', '9916', 'Tile/Domino', 'Racks', '9941', 'Four', 'Stars', '9948', 'Hours', 'Fun', '9949', 'Simply', 'best', 'Name', 'First', 'Name', 'Length', '511', 'dtype', 'object']\n"
          ],
          "name": "stdout"
        }
      ]
    },
    {
      "cell_type": "code",
      "metadata": {
        "id": "7SF_96wS9lLS",
        "colab_type": "code",
        "colab": {
          "base_uri": "https://localhost:8080/",
          "height": 54
        },
        "outputId": "0ee2b72b-6f6b-4dda-fb14-8c8c630f7fbd"
      },
      "source": [
        "from nltk.stem.lancaster import LancasterStemmer\n",
        "st=LancasterStemmer()\n",
        "stemmedWords=[st.stem(word) for word in wordsWOStopwords]\n",
        "print(stemmedWords)"
      ],
      "execution_count": 13,
      "outputs": [
        {
          "output_type": "stream",
          "text": [
            "['0', 'wor', 'buy', 'for', 'the', 'pict', 'alon', 'as', 'ev', '2', '**highly', 'recommend', '**', '7', 'beauty', 'set', '8', 'fiv', 'star', '30', 'fiv', 'star', '...', '9915', 'gre', 'gam', '9916', 'tile/domino', 'rack', '9941', 'four', 'star', '9948', 'hour', 'fun', '9949', 'simply', 'best', 'nam', 'first', 'nam', 'leng', '511', 'dtyp', 'object']\n"
          ],
          "name": "stdout"
        }
      ]
    },
    {
      "cell_type": "code",
      "metadata": {
        "id": "-LS6AB84Q-wF",
        "colab_type": "code",
        "colab": {
          "base_uri": "https://localhost:8080/",
          "height": 88
        },
        "outputId": "1d790368-a4a2-4364-a961-891c7eeb429c"
      },
      "source": [
        "nltk.download('wordnet')\n",
        "from nltk.stem import WordNetLemmatizer\n",
        "def get_lemma(words):\n",
        "    wordnet_lemmatizer = WordNetLemmatizer()\n",
        "    lemma = []\n",
        "    for word in words:\n",
        "        lemma.append(wordnet_lemmatizer.lemmatize(word)) # Warning: Lemmatizer needs a POS tag or else it treats it as a noun and doesn't change it\n",
        "    print(lemma)\n",
        "get_lemma(wordsWOStopwords)"
      ],
      "execution_count": 14,
      "outputs": [
        {
          "output_type": "stream",
          "text": [
            "[nltk_data] Downloading package wordnet to /root/nltk_data...\n",
            "[nltk_data]   Unzipping corpora/wordnet.zip.\n",
            "['0', 'Worth', 'Buying', 'For', 'The', 'Pictures', 'Alone', 'As', 'Ever', '2', '**Highly', 'Recommended', '**', '7', 'Beautiful', 'set', '8', 'Five', 'Stars', '30', 'Five', 'Stars', '...', '9915', 'Great', 'game', '9916', 'Tile/Domino', 'Racks', '9941', 'Four', 'Stars', '9948', 'Hours', 'Fun', '9949', 'Simply', 'best', 'Name', 'First', 'Name', 'Length', '511', 'dtype', 'object']\n"
          ],
          "name": "stdout"
        }
      ]
    },
    {
      "cell_type": "code",
      "metadata": {
        "id": "RJUXr-J7ktOh",
        "colab_type": "code",
        "colab": {
          "base_uri": "https://localhost:8080/",
          "height": 105
        },
        "outputId": "5a8e83c3-f9f8-4a26-bc03-a849337c75c4"
      },
      "source": [
        "nltk.download('averaged_perceptron_tagger')\n",
        "pos = nltk.pos_tag(wordsWOStopwords)\n",
        "print(pos)"
      ],
      "execution_count": 15,
      "outputs": [
        {
          "output_type": "stream",
          "text": [
            "[nltk_data] Downloading package averaged_perceptron_tagger to\n",
            "[nltk_data]     /root/nltk_data...\n",
            "[nltk_data]   Unzipping taggers/averaged_perceptron_tagger.zip.\n",
            "[('0', 'CD'), ('Worth', 'JJ'), ('Buying', 'NN'), ('For', 'IN'), ('The', 'DT'), ('Pictures', 'NNP'), ('Alone', 'NNP'), ('As', 'IN'), ('Ever', 'NNP'), ('2', 'CD'), ('**Highly', 'RB'), ('Recommended', 'NNP'), ('**', 'VBD'), ('7', 'CD'), ('Beautiful', 'NNP'), ('set', 'VBD'), ('8', 'CD'), ('Five', 'CD'), ('Stars', 'NNS'), ('30', 'CD'), ('Five', 'CD'), ('Stars', 'NNS'), ('...', ':'), ('9915', 'CD'), ('Great', 'NNP'), ('game', 'NN'), ('9916', 'CD'), ('Tile/Domino', 'NN'), ('Racks', 'NNP'), ('9941', 'CD'), ('Four', 'CD'), ('Stars', 'NNS'), ('9948', 'CD'), ('Hours', 'NNP'), ('Fun', 'NNP'), ('9949', 'CD'), ('Simply', 'NNP'), ('best', 'JJS'), ('Name', 'NN'), ('First', 'NNP'), ('Name', 'NNP'), ('Length', 'NNP'), ('511', 'CD'), ('dtype', 'NN'), ('object', 'NN')]\n"
          ],
          "name": "stdout"
        }
      ]
    },
    {
      "cell_type": "code",
      "metadata": {
        "id": "W_w-5BTRREut",
        "colab_type": "code",
        "colab": {}
      },
      "source": [
        "#matplotlib.use('TkAgg') \n",
        "import matplotlib\n",
        "from nltk.probability import FreqDist\n",
        "\n",
        "def plot_freq_dist(words, num_words = 100):\n",
        "    fdist = FreqDist(wordsWOStopwords)\n",
        "    fdist.plot(num_words,cumulative=False)"
      ],
      "execution_count": 0,
      "outputs": []
    },
    {
      "cell_type": "code",
      "metadata": {
        "id": "Z_yHJ2sVUM6o",
        "colab_type": "code",
        "colab": {
          "base_uri": "https://localhost:8080/",
          "height": 344
        },
        "outputId": "3da0bd04-3b53-466e-f6ca-94744eba5453"
      },
      "source": [
        "plot_freq_dist(wordsWOStopwords[0], num_words=100)"
      ],
      "execution_count": 17,
      "outputs": [
        {
          "output_type": "display_data",
          "data": {
            "image/png": "[encoded data removed]",
            "text/plain": [
              "<Figure size 432x288 with 1 Axes>"
            ]
          },
          "metadata": {
            "tags": [],
            "needs_background": "light"
          }
        }
      ]
    },
    {
      "cell_type": "code",
      "metadata": {
        "id": "QfgrnzsaRqwP",
        "colab_type": "code",
        "colab": {}
      },
      "source": [
        "import sklearn\n",
        "from sklearn.feature_extraction.text import CountVectorizer\n",
        "\n",
        "def get_bag_of_words(wordsWOStopwords):\n",
        "    vectorizer = CountVectorizer()\n",
        "    print(vectorizer.fit_transform(wordsWOStopwords).todense())\n",
        "    print(vectorizer.vocabulary_) \n",
        "    print(vectorizer.get_feature_names())"
      ],
      "execution_count": 0,
      "outputs": []
    },
    {
      "cell_type": "code",
      "metadata": {
        "id": "AOoo8l_uShaw",
        "colab_type": "code",
        "colab": {
          "base_uri": "https://localhost:8080/",
          "height": 190
        },
        "outputId": "71d3240b-c77a-4685-d3af-c8e0092b7c3e"
      },
      "source": [
        "get_bag_of_words(wordsWOStopwords)"
      ],
      "execution_count": 19,
      "outputs": [
        {
          "output_type": "stream",
          "text": [
            "[[0 0 0 ... 0 0 0]\n",
            " [0 0 0 ... 0 0 1]\n",
            " [0 0 0 ... 0 0 0]\n",
            " ...\n",
            " [0 1 0 ... 0 0 0]\n",
            " [0 0 0 ... 0 0 0]\n",
            " [0 0 0 ... 0 0 0]]\n",
            "{'worth': 35, 'buying': 11, 'for': 17, 'the': 33, 'pictures': 27, 'alone': 7, 'as': 8, 'ever': 14, 'highly': 22, 'recommended': 29, 'beautiful': 9, 'set': 30, 'five': 16, 'stars': 32, '30': 0, '9915': 2, 'great': 21, 'game': 20, '9916': 3, 'tile': 34, 'domino': 12, 'racks': 28, '9941': 4, 'four': 18, '9948': 5, 'hours': 23, 'fun': 19, '9949': 6, 'simply': 31, 'best': 10, 'name': 25, 'first': 15, 'length': 24, '511': 1, 'dtype': 13, 'object': 26}\n",
            "['30', '511', '9915', '9916', '9941', '9948', '9949', 'alone', 'as', 'beautiful', 'best', 'buying', 'domino', 'dtype', 'ever', 'first', 'five', 'for', 'four', 'fun', 'game', 'great', 'highly', 'hours', 'length', 'name', 'object', 'pictures', 'racks', 'recommended', 'set', 'simply', 'stars', 'the', 'tile', 'worth']\n"
          ],
          "name": "stdout"
        }
      ]
    },
    {
      "cell_type": "code",
      "metadata": {
        "id": "2_YJNRk_TR-A",
        "colab_type": "code",
        "colab": {}
      },
      "source": [
        "from sklearn.feature_extraction.text import TfidfVectorizer\n",
        "vectorizer = TfidfVectorizer(stop_words='english')\n",
        "X = vectorizer.fit_transform(wordsWOStopwords)"
      ],
      "execution_count": 0,
      "outputs": []
    },
    {
      "cell_type": "code",
      "metadata": {
        "id": "4IXEnPYhUlBL",
        "colab_type": "code",
        "colab": {
          "base_uri": "https://localhost:8080/",
          "height": 476
        },
        "outputId": "21edac60-a41f-4244-f2b7-565bd90c8b52"
      },
      "source": [
        "vectorizer.get_feature_names()"
      ],
      "execution_count": 21,
      "outputs": [
        {
          "output_type": "execute_result",
          "data": {
            "text/plain": [
              "['30',\n",
              " '511',\n",
              " '9915',\n",
              " '9916',\n",
              " '9941',\n",
              " '9948',\n",
              " '9949',\n",
              " 'beautiful',\n",
              " 'best',\n",
              " 'buying',\n",
              " 'domino',\n",
              " 'dtype',\n",
              " 'fun',\n",
              " 'game',\n",
              " 'great',\n",
              " 'highly',\n",
              " 'hours',\n",
              " 'length',\n",
              " 'object',\n",
              " 'pictures',\n",
              " 'racks',\n",
              " 'recommended',\n",
              " 'set',\n",
              " 'simply',\n",
              " 'stars',\n",
              " 'tile',\n",
              " 'worth']"
            ]
          },
          "metadata": {
            "tags": []
          },
          "execution_count": 21
        }
      ]
    },
    {
      "cell_type": "code",
      "metadata": {
        "id": "VYdwtjlAXUKp",
        "colab_type": "code",
        "colab": {
          "base_uri": "https://localhost:8080/",
          "height": 54
        },
        "outputId": "cbf0714b-393c-4ed3-d973-475df7667da2"
      },
      "source": [
        "from sklearn.feature_extraction.text import TfidfVectorizer\n",
        "bagOfWords = (nlpreview.splitlines(  )) \n",
        "print(bagOfWords)"
      ],
      "execution_count": 22,
      "outputs": [
        {
          "output_type": "stream",
          "text": [
            "['0       Worth Buying For The Pictures Alone (As Ever) ', '2                             **Highly Recommended!** ', '7                                       Beautiful set ', '8                                          Five Stars ', '30                                         Five Stars ', '                             ...                      ', '9915                                       Great game ', '9916                                Tile/Domino Racks ', '9941                                       Four Stars ', '9948                                    Hours of Fun! ', '9949                                  Simply the best ', 'Name: First Name, Length: 511, dtype: object']\n"
          ],
          "name": "stdout"
        }
      ]
    },
    {
      "cell_type": "code",
      "metadata": {
        "id": "ZdnLoCK6kF3H",
        "colab_type": "code",
        "colab": {
          "base_uri": "https://localhost:8080/",
          "height": 122
        },
        "outputId": "4ee9f354-4e39-435f-c745-d4b706d5b8f4"
      },
      "source": [
        "nltk.download('averaged_perceptron_tagger')\n",
        "pos = nltk.pos_tag(wordsWOStopwords)\n",
        "print(pos)"
      ],
      "execution_count": 23,
      "outputs": [
        {
          "output_type": "stream",
          "text": [
            "[nltk_data] Downloading package averaged_perceptron_tagger to\n",
            "[nltk_data]     /root/nltk_data...\n",
            "[nltk_data]   Package averaged_perceptron_tagger is already up-to-\n",
            "[nltk_data]       date!\n",
            "[('0', 'CD'), ('Worth', 'JJ'), ('Buying', 'NN'), ('For', 'IN'), ('The', 'DT'), ('Pictures', 'NNP'), ('Alone', 'NNP'), ('As', 'IN'), ('Ever', 'NNP'), ('2', 'CD'), ('**Highly', 'RB'), ('Recommended', 'NNP'), ('**', 'VBD'), ('7', 'CD'), ('Beautiful', 'NNP'), ('set', 'VBD'), ('8', 'CD'), ('Five', 'CD'), ('Stars', 'NNS'), ('30', 'CD'), ('Five', 'CD'), ('Stars', 'NNS'), ('...', ':'), ('9915', 'CD'), ('Great', 'NNP'), ('game', 'NN'), ('9916', 'CD'), ('Tile/Domino', 'NN'), ('Racks', 'NNP'), ('9941', 'CD'), ('Four', 'CD'), ('Stars', 'NNS'), ('9948', 'CD'), ('Hours', 'NNP'), ('Fun', 'NNP'), ('9949', 'CD'), ('Simply', 'NNP'), ('best', 'JJS'), ('Name', 'NN'), ('First', 'NNP'), ('Name', 'NNP'), ('Length', 'NNP'), ('511', 'CD'), ('dtype', 'NN'), ('object', 'NN')]\n"
          ],
          "name": "stdout"
        }
      ]
    },
    {
      "cell_type": "code",
      "metadata": {
        "id": "TvqARBfNlMiK",
        "colab_type": "code",
        "colab": {
          "base_uri": "https://localhost:8080/",
          "height": 221
        },
        "outputId": "331df191-b04f-4e5a-d32f-2c51564b44b9"
      },
      "source": [
        "uniqueWords=(set(bagOfWords))\n",
        "uniqueWords"
      ],
      "execution_count": 24,
      "outputs": [
        {
          "output_type": "execute_result",
          "data": {
            "text/plain": [
              "{'                             ...                      ',\n",
              " '0       Worth Buying For The Pictures Alone (As Ever) ',\n",
              " '2                             **Highly Recommended!** ',\n",
              " '30                                         Five Stars ',\n",
              " '7                                       Beautiful set ',\n",
              " '8                                          Five Stars ',\n",
              " '9915                                       Great game ',\n",
              " '9916                                Tile/Domino Racks ',\n",
              " '9941                                       Four Stars ',\n",
              " '9948                                    Hours of Fun! ',\n",
              " '9949                                  Simply the best ',\n",
              " 'Name: First Name, Length: 511, dtype: object'}"
            ]
          },
          "metadata": {
            "tags": []
          },
          "execution_count": 24
        }
      ]
    },
    {
      "cell_type": "code",
      "metadata": {
        "id": "heK3FvuIk_6J",
        "colab_type": "code",
        "colab": {}
      },
      "source": [
        "numOfWords=  dict.fromkeys(uniqueWords, 0)\n",
        "for word in bagOfWords:\n",
        "    numOfWords[word] += 1"
      ],
      "execution_count": 0,
      "outputs": []
    },
    {
      "cell_type": "code",
      "metadata": {
        "id": "UE5hmIiTmAbQ",
        "colab_type": "code",
        "colab": {
          "base_uri": "https://localhost:8080/",
          "height": 54
        },
        "outputId": "b5ea764d-ceb8-43c4-8948-c75bf25f4137"
      },
      "source": [
        "print(numOfWords)"
      ],
      "execution_count": 26,
      "outputs": [
        {
          "output_type": "stream",
          "text": [
            "{'9948                                    Hours of Fun! ': 1, 'Name: First Name, Length: 511, dtype: object': 1, '                             ...                      ': 1, '0       Worth Buying For The Pictures Alone (As Ever) ': 1, '7                                       Beautiful set ': 1, '9916                                Tile/Domino Racks ': 1, '9941                                       Four Stars ': 1, '30                                         Five Stars ': 1, '9915                                       Great game ': 1, '9949                                  Simply the best ': 1, '2                             **Highly Recommended!** ': 1, '8                                          Five Stars ': 1}\n"
          ],
          "name": "stdout"
        }
      ]
    },
    {
      "cell_type": "code",
      "metadata": {
        "id": "nz9yIWSbmhZj",
        "colab_type": "code",
        "colab": {
          "base_uri": "https://localhost:8080/",
          "height": 68
        },
        "outputId": "2e9a47fa-4218-4950-d738-63db504cfec8"
      },
      "source": [
        "import nltk\n",
        "nltk.download('stopwords')"
      ],
      "execution_count": 27,
      "outputs": [
        {
          "output_type": "stream",
          "text": [
            "[nltk_data] Downloading package stopwords to /root/nltk_data...\n",
            "[nltk_data]   Package stopwords is already up-to-date!\n"
          ],
          "name": "stdout"
        },
        {
          "output_type": "execute_result",
          "data": {
            "text/plain": [
              "True"
            ]
          },
          "metadata": {
            "tags": []
          },
          "execution_count": 27
        }
      ]
    },
    {
      "cell_type": "code",
      "metadata": {
        "id": "JhVQzh_6mm1D",
        "colab_type": "code",
        "colab": {
          "base_uri": "https://localhost:8080/",
          "height": 1000
        },
        "outputId": "1be55c8f-4942-406f-f6b6-b1db3d1a4896"
      },
      "source": [
        "from nltk.corpus import stopwords\n",
        "stopwords.words('english')"
      ],
      "execution_count": 28,
      "outputs": [
        {
          "output_type": "execute_result",
          "data": {
            "text/plain": [
              "['i',\n",
              " 'me',\n",
              " 'my',\n",
              " 'myself',\n",
              " 'we',\n",
              " 'our',\n",
              " 'ours',\n",
              " 'ourselves',\n",
              " 'you',\n",
              " \"you're\",\n",
              " \"you've\",\n",
              " \"you'll\",\n",
              " \"you'd\",\n",
              " 'your',\n",
              " 'yours',\n",
              " 'yourself',\n",
              " 'yourselves',\n",
              " 'he',\n",
              " 'him',\n",
              " 'his',\n",
              " 'himself',\n",
              " 'she',\n",
              " \"she's\",\n",
              " 'her',\n",
              " 'hers',\n",
              " 'herself',\n",
              " 'it',\n",
              " \"it's\",\n",
              " 'its',\n",
              " 'itself',\n",
              " 'they',\n",
              " 'them',\n",
              " 'their',\n",
              " 'theirs',\n",
              " 'themselves',\n",
              " 'what',\n",
              " 'which',\n",
              " 'who',\n",
              " 'whom',\n",
              " 'this',\n",
              " 'that',\n",
              " \"that'll\",\n",
              " 'these',\n",
              " 'those',\n",
              " 'am',\n",
              " 'is',\n",
              " 'are',\n",
              " 'was',\n",
              " 'were',\n",
              " 'be',\n",
              " 'been',\n",
              " 'being',\n",
              " 'have',\n",
              " 'has',\n",
              " 'had',\n",
              " 'having',\n",
              " 'do',\n",
              " 'does',\n",
              " 'did',\n",
              " 'doing',\n",
              " 'a',\n",
              " 'an',\n",
              " 'the',\n",
              " 'and',\n",
              " 'but',\n",
              " 'if',\n",
              " 'or',\n",
              " 'because',\n",
              " 'as',\n",
              " 'until',\n",
              " 'while',\n",
              " 'of',\n",
              " 'at',\n",
              " 'by',\n",
              " 'for',\n",
              " 'with',\n",
              " 'about',\n",
              " 'against',\n",
              " 'between',\n",
              " 'into',\n",
              " 'through',\n",
              " 'during',\n",
              " 'before',\n",
              " 'after',\n",
              " 'above',\n",
              " 'below',\n",
              " 'to',\n",
              " 'from',\n",
              " 'up',\n",
              " 'down',\n",
              " 'in',\n",
              " 'out',\n",
              " 'on',\n",
              " 'off',\n",
              " 'over',\n",
              " 'under',\n",
              " 'again',\n",
              " 'further',\n",
              " 'then',\n",
              " 'once',\n",
              " 'here',\n",
              " 'there',\n",
              " 'when',\n",
              " 'where',\n",
              " 'why',\n",
              " 'how',\n",
              " 'all',\n",
              " 'any',\n",
              " 'both',\n",
              " 'each',\n",
              " 'few',\n",
              " 'more',\n",
              " 'most',\n",
              " 'other',\n",
              " 'some',\n",
              " 'such',\n",
              " 'no',\n",
              " 'nor',\n",
              " 'not',\n",
              " 'only',\n",
              " 'own',\n",
              " 'same',\n",
              " 'so',\n",
              " 'than',\n",
              " 'too',\n",
              " 'very',\n",
              " 's',\n",
              " 't',\n",
              " 'can',\n",
              " 'will',\n",
              " 'just',\n",
              " 'don',\n",
              " \"don't\",\n",
              " 'should',\n",
              " \"should've\",\n",
              " 'now',\n",
              " 'd',\n",
              " 'll',\n",
              " 'm',\n",
              " 'o',\n",
              " 're',\n",
              " 've',\n",
              " 'y',\n",
              " 'ain',\n",
              " 'aren',\n",
              " \"aren't\",\n",
              " 'couldn',\n",
              " \"couldn't\",\n",
              " 'didn',\n",
              " \"didn't\",\n",
              " 'doesn',\n",
              " \"doesn't\",\n",
              " 'hadn',\n",
              " \"hadn't\",\n",
              " 'hasn',\n",
              " \"hasn't\",\n",
              " 'haven',\n",
              " \"haven't\",\n",
              " 'isn',\n",
              " \"isn't\",\n",
              " 'ma',\n",
              " 'mightn',\n",
              " \"mightn't\",\n",
              " 'mustn',\n",
              " \"mustn't\",\n",
              " 'needn',\n",
              " \"needn't\",\n",
              " 'shan',\n",
              " \"shan't\",\n",
              " 'shouldn',\n",
              " \"shouldn't\",\n",
              " 'wasn',\n",
              " \"wasn't\",\n",
              " 'weren',\n",
              " \"weren't\",\n",
              " 'won',\n",
              " \"won't\",\n",
              " 'wouldn',\n",
              " \"wouldn't\"]"
            ]
          },
          "metadata": {
            "tags": []
          },
          "execution_count": 28
        }
      ]
    },
    {
      "cell_type": "code",
      "metadata": {
        "id": "2TYzRQQOmrxB",
        "colab_type": "code",
        "colab": {}
      },
      "source": [
        "def computeTF(wordDict, bagOfWords):\n",
        "    tfDict = {}\n",
        "    bagOfWordsCount = len(bagOfWords)\n",
        "    for word, count in wordDict.items():\n",
        "        tfDict[word] = count / float(bagOfWordsCount)\n",
        "    return tfDict\n"
      ],
      "execution_count": 0,
      "outputs": []
    },
    {
      "cell_type": "code",
      "metadata": {
        "id": "WChaMCVbm8e5",
        "colab_type": "code",
        "colab": {
          "base_uri": "https://localhost:8080/",
          "height": 54
        },
        "outputId": "ffc4122e-d21f-4b2f-ff23-cd20ec668f8f"
      },
      "source": [
        "tf= computeTF(numOfWords, bagOfWords)\n",
        "print(tf)"
      ],
      "execution_count": 30,
      "outputs": [
        {
          "output_type": "stream",
          "text": [
            "{'9948                                    Hours of Fun! ': 0.08333333333333333, 'Name: First Name, Length: 511, dtype: object': 0.08333333333333333, '                             ...                      ': 0.08333333333333333, '0       Worth Buying For The Pictures Alone (As Ever) ': 0.08333333333333333, '7                                       Beautiful set ': 0.08333333333333333, '9916                                Tile/Domino Racks ': 0.08333333333333333, '9941                                       Four Stars ': 0.08333333333333333, '30                                         Five Stars ': 0.08333333333333333, '9915                                       Great game ': 0.08333333333333333, '9949                                  Simply the best ': 0.08333333333333333, '2                             **Highly Recommended!** ': 0.08333333333333333, '8                                          Five Stars ': 0.08333333333333333}\n"
          ],
          "name": "stdout"
        }
      ]
    },
    {
      "cell_type": "code",
      "metadata": {
        "id": "yGhaAbi3naXf",
        "colab_type": "code",
        "colab": {
          "base_uri": "https://localhost:8080/",
          "height": 221
        },
        "outputId": "1500aa37-54ef-496e-9e7e-a14105a0e84c"
      },
      "source": [
        "def computeIDF(documents):\n",
        "    import math\n",
        "    N = len(documents)\n",
        "    \n",
        "    idfDict = dict.fromkeys(documents[0].keys(), 0)\n",
        "    for document in documents:\n",
        "        for word, val in document.items():\n",
        "            if val > 0:\n",
        "                idfDict[word] += 1\n",
        "    \n",
        "    for word, val in idfDict.items():\n",
        "        idfDict[word] = math.log(N / float(val))\n",
        "    return idfDict\n",
        "idfs = computeIDF([numOfWords])\n",
        "idfs"
      ],
      "execution_count": 31,
      "outputs": [
        {
          "output_type": "execute_result",
          "data": {
            "text/plain": [
              "{'                             ...                      ': 0.0,\n",
              " '0       Worth Buying For The Pictures Alone (As Ever) ': 0.0,\n",
              " '2                             **Highly Recommended!** ': 0.0,\n",
              " '30                                         Five Stars ': 0.0,\n",
              " '7                                       Beautiful set ': 0.0,\n",
              " '8                                          Five Stars ': 0.0,\n",
              " '9915                                       Great game ': 0.0,\n",
              " '9916                                Tile/Domino Racks ': 0.0,\n",
              " '9941                                       Four Stars ': 0.0,\n",
              " '9948                                    Hours of Fun! ': 0.0,\n",
              " '9949                                  Simply the best ': 0.0,\n",
              " 'Name: First Name, Length: 511, dtype: object': 0.0}"
            ]
          },
          "metadata": {
            "tags": []
          },
          "execution_count": 31
        }
      ]
    },
    {
      "cell_type": "code",
      "metadata": {
        "id": "oA8XWajhnoMF",
        "colab_type": "code",
        "colab": {
          "base_uri": "https://localhost:8080/",
          "height": 100
        },
        "outputId": "aee9e3da-c953-4012-b060-1d76d348842b"
      },
      "source": [
        "vectorizer = TfidfVectorizer()\n",
        "vectors = vectorizer.fit_transform([nlpreview])\n",
        "feature_names = vectorizer.get_feature_names()\n",
        "dense = vectors.todense()\n",
        "denselist = dense.tolist()\n",
        "df = pd.DataFrame(denselist, columns=feature_names)\n",
        "df"
      ],
      "execution_count": 32,
      "outputs": [
        {
          "output_type": "execute_result",
          "data": {
            "text/html": [
              "<div>\n",
              "<style scoped>\n",
              "    .dataframe tbody tr th:only-of-type {\n",
              "        vertical-align: middle;\n",
              "    }\n",
              "\n",
              "    .dataframe tbody tr th {\n",
              "        vertical-align: top;\n",
              "    }\n",
              "\n",
              "    .dataframe thead th {\n",
              "        text-align: right;\n",
              "    }\n",
              "</style>\n",
              "<table border=\"1\" class=\"dataframe\">\n",
              "  <thead>\n",
              "    <tr style=\"text-align: right;\">\n",
              "      <th></th>\n",
              "      <th>30</th>\n",
              "      <th>511</th>\n",
              "      <th>9915</th>\n",
              "      <th>9916</th>\n",
              "      <th>9941</th>\n",
              "      <th>9948</th>\n",
              "      <th>9949</th>\n",
              "      <th>alone</th>\n",
              "      <th>as</th>\n",
              "      <th>beautiful</th>\n",
              "      <th>best</th>\n",
              "      <th>buying</th>\n",
              "      <th>domino</th>\n",
              "      <th>dtype</th>\n",
              "      <th>ever</th>\n",
              "      <th>first</th>\n",
              "      <th>five</th>\n",
              "      <th>for</th>\n",
              "      <th>four</th>\n",
              "      <th>fun</th>\n",
              "      <th>game</th>\n",
              "      <th>great</th>\n",
              "      <th>highly</th>\n",
              "      <th>hours</th>\n",
              "      <th>length</th>\n",
              "      <th>name</th>\n",
              "      <th>object</th>\n",
              "      <th>of</th>\n",
              "      <th>pictures</th>\n",
              "      <th>racks</th>\n",
              "      <th>recommended</th>\n",
              "      <th>set</th>\n",
              "      <th>simply</th>\n",
              "      <th>stars</th>\n",
              "      <th>the</th>\n",
              "      <th>tile</th>\n",
              "      <th>worth</th>\n",
              "    </tr>\n",
              "  </thead>\n",
              "  <tbody>\n",
              "    <tr>\n",
              "      <th>0</th>\n",
              "      <td>0.136083</td>\n",
              "      <td>0.136083</td>\n",
              "      <td>0.136083</td>\n",
              "      <td>0.136083</td>\n",
              "      <td>0.136083</td>\n",
              "      <td>0.136083</td>\n",
              "      <td>0.136083</td>\n",
              "      <td>0.136083</td>\n",
              "      <td>0.136083</td>\n",
              "      <td>0.136083</td>\n",
              "      <td>0.136083</td>\n",
              "      <td>0.136083</td>\n",
              "      <td>0.136083</td>\n",
              "      <td>0.136083</td>\n",
              "      <td>0.136083</td>\n",
              "      <td>0.136083</td>\n",
              "      <td>0.272166</td>\n",
              "      <td>0.136083</td>\n",
              "      <td>0.136083</td>\n",
              "      <td>0.136083</td>\n",
              "      <td>0.136083</td>\n",
              "      <td>0.136083</td>\n",
              "      <td>0.136083</td>\n",
              "      <td>0.136083</td>\n",
              "      <td>0.136083</td>\n",
              "      <td>0.272166</td>\n",
              "      <td>0.136083</td>\n",
              "      <td>0.136083</td>\n",
              "      <td>0.136083</td>\n",
              "      <td>0.136083</td>\n",
              "      <td>0.136083</td>\n",
              "      <td>0.136083</td>\n",
              "      <td>0.136083</td>\n",
              "      <td>0.408248</td>\n",
              "      <td>0.272166</td>\n",
              "      <td>0.136083</td>\n",
              "      <td>0.136083</td>\n",
              "    </tr>\n",
              "  </tbody>\n",
              "</table>\n",
              "</div>"
            ],
            "text/plain": [
              "         30       511      9915  ...       the      tile     worth\n",
              "0  0.136083  0.136083  0.136083  ...  0.272166  0.136083  0.136083\n",
              "\n",
              "[1 rows x 37 columns]"
            ]
          },
          "metadata": {
            "tags": []
          },
          "execution_count": 32
        }
      ]
    },
    {
      "cell_type": "code",
      "metadata": {
        "id": "LAH1qQV8I4fr",
        "colab_type": "code",
        "colab": {}
      },
      "source": [
        "f"
      ],
      "execution_count": 0,
      "outputs": []
    }
  ]
}